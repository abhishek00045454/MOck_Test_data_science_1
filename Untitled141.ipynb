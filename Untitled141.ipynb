{
  "nbformat": 4,
  "nbformat_minor": 0,
  "metadata": {
    "colab": {
      "provenance": []
    },
    "kernelspec": {
      "name": "python3",
      "display_name": "Python 3"
    },
    "language_info": {
      "name": "python"
    }
  },
  "cells": [
    {
      "cell_type": "code",
      "execution_count": 1,
      "metadata": {
        "id": "xXHdv-SHde8U"
      },
      "outputs": [],
      "source": [
        "# 20. Write a function called ‘perform_hypothesis_test’ that takes two lists of numbers as input, representing two samples. The function should perform a two-sample t-test and return the p-value. Use the ‘scipy.stats’ module in Python to calculate the t-test and p-value.\n",
        "\n",
        "# Example:\n",
        "\n",
        "# from scipy import stats\n",
        "\n",
        "# def perform_hypothesis_test(sample1, sample2):\n",
        "#     t_statistic, p_value = stats.ttest_ind(sample1, sample2)\n",
        "#     return p_value\n",
        "\n",
        "# sample1 = [5, 10, 15, 20, 25]\n",
        "# sample2 = [10, 20, 30, 40, 50]\n",
        "# p_value = perform_hypothesis_test(sample1, sample2)\n",
        "# print(\"P-value:\", p_value)\n",
        "\n",
        "# Output:\n",
        "# P-value: 0.1064706396450037"
      ]
    },
    {
      "cell_type": "code",
      "source": [
        "from scipy import stats\n",
        "\n",
        "def perform_hypothesis_test(sample1, sample2):\n",
        "    t_statistic, p_value = stats.ttest_ind(sample1, sample2)\n",
        "    return p_value\n"
      ],
      "metadata": {
        "id": "RBqJ5xbrdg3-"
      },
      "execution_count": 3,
      "outputs": []
    },
    {
      "cell_type": "code",
      "source": [
        "sample1 = [5, 10, 15, 20, 25]\n",
        "sample2 = [10, 20, 30, 40, 50]\n",
        "p_value = perform_hypothesis_test(sample1, sample2)\n",
        "print(\"P-value:\", p_value)\n"
      ],
      "metadata": {
        "colab": {
          "base_uri": "https://localhost:8080/"
        },
        "id": "RiuhAEEndkkB",
        "outputId": "f32f36de-038e-4991-bcd2-3c594b2ad47b"
      },
      "execution_count": 4,
      "outputs": [
        {
          "output_type": "stream",
          "name": "stdout",
          "text": [
            "P-value: 0.09434977284243756\n"
          ]
        }
      ]
    },
    {
      "cell_type": "code",
      "source": [],
      "metadata": {
        "id": "PzIvf-yGdlTM"
      },
      "execution_count": null,
      "outputs": []
    }
  ]
}
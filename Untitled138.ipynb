{
  "nbformat": 4,
  "nbformat_minor": 0,
  "metadata": {
    "colab": {
      "provenance": []
    },
    "kernelspec": {
      "name": "python3",
      "display_name": "Python 3"
    },
    "language_info": {
      "name": "python"
    }
  },
  "cells": [
    {
      "cell_type": "code",
      "execution_count": 1,
      "metadata": {
        "id": "CZrNDxIhaQ50"
      },
      "outputs": [],
      "source": [
        "# 7. Write a function that takes a list of numbers as input and returns a new list containing only the even numbers from the input list. Use list comprehension to solve this problem.\n",
        "\n",
        "# Example:\n",
        "\n",
        "# Input: [1, 2, 3, 4, 5, 6, 7, 8, 9, 10]\n",
        "\n",
        "# Output: [2, 4, 6, 8, 10]"
      ]
    },
    {
      "cell_type": "code",
      "source": [
        "def get_even_numbers(input_list):\n",
        "  return [nums for nums in input_list  if nums %2==0]\n",
        ""
      ],
      "metadata": {
        "id": "uUPmAsMCaold"
      },
      "execution_count": 2,
      "outputs": []
    },
    {
      "cell_type": "code",
      "source": [
        "input_list = [1, 2, 3, 4, 5, 6, 7, 8, 9, 10]\n",
        "output_list = get_even_numbers(input_list)\n",
        "print(output_list)"
      ],
      "metadata": {
        "colab": {
          "base_uri": "https://localhost:8080/"
        },
        "id": "HYKtWr65a7Sb",
        "outputId": "10ebd008-2fe3-423a-e838-1a7cad7c1dd0"
      },
      "execution_count": 3,
      "outputs": [
        {
          "output_type": "stream",
          "name": "stdout",
          "text": [
            "[2, 4, 6, 8, 10]\n"
          ]
        }
      ]
    },
    {
      "cell_type": "code",
      "source": [],
      "metadata": {
        "id": "PSa-cr_ua8zT"
      },
      "execution_count": null,
      "outputs": []
    }
  ]
}
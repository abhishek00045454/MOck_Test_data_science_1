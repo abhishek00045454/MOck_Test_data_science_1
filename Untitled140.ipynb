{
  "nbformat": 4,
  "nbformat_minor": 0,
  "metadata": {
    "colab": {
      "provenance": []
    },
    "kernelspec": {
      "name": "python3",
      "display_name": "Python 3"
    },
    "language_info": {
      "name": "python"
    }
  },
  "cells": [
    {
      "cell_type": "code",
      "execution_count": 1,
      "metadata": {
        "id": "9ZrdsHrOcgyH"
      },
      "outputs": [],
      "source": [
        "# 19. Write a function called ‘calculate_mean’ that takes a list of numbers as input and returns the mean (average) of the numbers. The function should calculate the mean using the sum of the numbers divided by the total count.\n",
        "\n",
        "# Example:\n",
        "\n",
        "# def calculate_mean(numbers):\n",
        "#     total = sum(numbers)\n",
        "#     count = len(numbers)\n",
        "#     mean = total / count\n",
        "#     return mean\n",
        "\n",
        "# data = [10, 15, 20, 25, 30]\n",
        "# mean_value = calculate_mean(data)\n",
        "# print(\"Mean:\", mean_value)\n",
        "\n",
        "# Output:\n",
        "# Mean: 20.0"
      ]
    },
    {
      "cell_type": "code",
      "source": [
        "def mean(numbers):\n",
        "  total=sum(numbers)\n",
        "  count=len(numbers)\n",
        "  mean=total/count\n",
        "  return mean"
      ],
      "metadata": {
        "id": "CMGEIYpsciEk"
      },
      "execution_count": 2,
      "outputs": []
    },
    {
      "cell_type": "code",
      "source": [
        "data = [10, 15, 20, 25, 30]\n",
        "mean_value = mean(data)\n",
        "print(\"Mean:\", mean_value)\n"
      ],
      "metadata": {
        "id": "W-56jmAqc4X8",
        "outputId": "31013a7c-a309-4a05-9424-cb541afa8908",
        "colab": {
          "base_uri": "https://localhost:8080/"
        }
      },
      "execution_count": 4,
      "outputs": [
        {
          "output_type": "stream",
          "name": "stdout",
          "text": [
            "Mean: 20.0\n"
          ]
        }
      ]
    },
    {
      "cell_type": "code",
      "source": [],
      "metadata": {
        "id": "5cb0M7Y8c6Ae"
      },
      "execution_count": null,
      "outputs": []
    }
  ]
}